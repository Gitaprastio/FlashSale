{
 "cells": [
  {
   "cell_type": "code",
   "execution_count": null,
   "metadata": {},
   "outputs": [
    {
     "name": "stdout",
     "output_type": "stream",
     "text": [
      "2021-03-09\n",
      "Next Session Will start at: 20:57\n"
     ]
    }
   ],
   "source": [
    "# import libraries\n",
    "from selenium import webdriver\n",
    "import time\n",
    "import pandas as pd\n",
    "import re\n",
    "from datetime import date\n",
    "import datetime\n",
    "from selenium.webdriver.firefox.options import Options\n",
    "import locale\n",
    "\n",
    "\n",
    "#Input Configuration\n",
    "urlpage = 'https://shopee.co.id/flash_sale'\n",
    "locale.setlocale(locale.LC_ALL, 'en_US')\n",
    "tanggal = datetime.datetime\n",
    "print(date.today())\n",
    "SCROLL_PAUSE_TIME = 0.5\n",
    "optionss = Options()\n",
    "optionss.headless = True\n",
    "autoScheduler = True\n",
    "startTimeHr = 12\n",
    "startTimeMin = 57\n",
    "initialTimer = True\n",
    "skipTimer = False\n",
    "repeat = True\n",
    "AutoTime = True\n",
    "\n",
    "#AutoScheduler on Progress\n",
    "if AutoTime == True:\n",
    "    driver = webdriver.Firefox(options=optionss)\n",
    "    driver.get(urlpage)\n",
    "    time.sleep(3)\n",
    "    sessionPointer = driver.find_elements_by_xpath(\"//*[@class='flash-sale-session__display-hour']\")\n",
    "    session = []\n",
    "    for sessionTime in sessionPointer:\n",
    "        sessionText = sessionTime.text\n",
    "        session.append(sessionText)\n",
    "    fsStartTime = []\n",
    "    fsStartTime = session[0]\n",
    "    fsStartTime = fsStartTime[:2] + '.' + fsStartTime[3:]\n",
    "    fsEndTime = session[1]\n",
    "    fsEndTime = fsEndTime[:2] + '.' + fsEndTime[3:]\n",
    "    nextSessionStart = session[1]\n",
    "    if int(nextSessionStart[:2]) == 0:\n",
    "        startTimeHr = 23\n",
    "    elif int(nextSessionStart[3:]) != 0:\n",
    "        startTimeHr = int(nextSessionStart[:2])\n",
    "    else:\n",
    "        startTimeHr = int(nextSessionStart[:2]) - 1\n",
    "    \n",
    "    if int(nextSessionStart[3:]) == 0:\n",
    "        startTimeMin = 57\n",
    "    else:\n",
    "        startTimeMin = int(nextSessionStart[3:]) - 1\n",
    "    driver.quit()\n",
    "else:\n",
    "    test=[]\n",
    "\n",
    "#TIMER\n",
    "kill = False\n",
    "while kill == False:\n",
    "    if skipTimer == False and initialTimer == True:\n",
    "        print(\"Next Session Will start at: \" + str(startTimeHr) + \":\" + str(startTimeMin))\n",
    "        while True:\n",
    "            time.sleep(0.5)\n",
    "            now = datetime.datetime.now()\n",
    "            current_time = now.strftime(\"%H:%M:%S\")  \n",
    "            if (int(now.strftime(\"%H\")) == startTimeHr) and (int(now.strftime(\"%M\")) == startTimeMin):\n",
    "                break\n",
    "    else:\n",
    "        print(\"Starting...\")\n",
    "    # Selenium\n",
    "    print(\"Loading Selenium...\")\n",
    "    driver = webdriver.Firefox(options=optionss)\n",
    "    print(\"Opening \" + urlpage + \"...\")\n",
    "    driver.get(urlpage)\n",
    "    time.sleep(5)\n",
    "    pageHeight = []\n",
    "    pageHeight.clear()\n",
    "    pageHeight.append(500)\n",
    "    pageHeight.append(500)\n",
    "    pageHeight.append(500)\n",
    "    pageHeight.append(500)\n",
    "    pageHeight.append(500)\n",
    "    pageHeight.append(500)\n",
    "    print(\"Scrolling...\")\n",
    "    while True:\n",
    "        # Get scroll height\n",
    "        pageHeight.append(driver.execute_script(\"return document.body.scrollHeight\"))\n",
    "        # Scroll down to bottom\n",
    "        driver.execute_script(\"window.scrollTo(0, document.body.scrollHeight-500)\")\n",
    "        # Wait to load page\n",
    "        time.sleep(SCROLL_PAUSE_TIME)  \n",
    "        if pageHeight[-1] == pageHeight[-6]:\n",
    "            break\n",
    "\n",
    "    print(\"Scroll Complete, page height \" + str(pageHeight[-1]))\n",
    "\n",
    "    #TIMER\n",
    "    \n",
    "    #FS Live & sold out class pointer\n",
    "    captureTime = datetime.datetime.now()\n",
    "    captureDate = date.today()\n",
    "    fsLiveProducts = driver.find_elements_by_xpath(\"//*[@class='flash-sale-item-card flash-sale-item-card--landing-page flash-sale-item-card--ID']\")\n",
    "    fsSoldOut = driver.find_elements_by_xpath(\"//*[@class='flash-sale-item-card flash-sale-item-card--landing-page flash-sale-item-card--ID flash-sale-item-card--sold-out']\")\n",
    "    sessionPointer = driver.find_elements_by_xpath(\"//*[@class='flash-sale-session__display-hour']\")\n",
    "    session = []\n",
    "    for sessionTime in sessionPointer:\n",
    "        sessionText = sessionTime.text\n",
    "        session.append(sessionText)\n",
    "\n",
    "    fsStartTime = []\n",
    "    fsStartTime = session[0]\n",
    "    fsStartTime = fsStartTime[:2] + '.' + fsStartTime[3:]\n",
    "    fsEndTime = session[1]\n",
    "    fsEndTime = fsEndTime[:2] + '.' + fsEndTime[3:]\n",
    "    nextSessionStart = session[2]\n",
    "\n",
    "    #Next Session Timer\n",
    "    if int(nextSessionStart[:2]) == 0:\n",
    "        startTimeHr = 23\n",
    "    elif int(nextSessionStart[3:]) != 0:\n",
    "        startTimeHr = int(nextSessionStart[:2])\n",
    "    else:\n",
    "        startTimeHr = int(nextSessionStart[:2]) - 1\n",
    "    \n",
    "    if int(nextSessionStart[3:]) == 0:\n",
    "        startTimeMin = 57\n",
    "    else:\n",
    "        startTimeMin = int(nextSessionStart[3:]) - 1\n",
    "    print(\"Capturing flash sale for: \" + str(fsStartTime) + \" - \" + str(fsEndTime) + \" session\")\n",
    "    print('Number of results', len(fsLiveProducts))\n",
    "    print('Number of Sold Out', len(fsSoldOut))\n",
    "\n",
    "    print(\"Creating data...\")\n",
    "    # create empty array to store data\n",
    "    data = []\n",
    "    data.clear()\n",
    "    i = 0\n",
    "    options = Options()\n",
    "    options.headless = True\n",
    "    #get data for fs product that still LIVE (stock not empty)\n",
    "    #if you see this, this is form of frustation. \n",
    "    print(\"Capturing LIVE products...\")\n",
    "    for result in fsLiveProducts:\n",
    "        body = result.text\n",
    "        splitted = body.split('\\n',)\n",
    "        product_name = splitted[0]\n",
    "        #normal price\n",
    "        normalPrice = int(re.sub(r\"\\D\", \"\", splitted[1]))\n",
    "        #selling price\n",
    "        sellingPrice = int(re.sub(r\"\\D\", \"\", splitted[2]))\n",
    "        #sold at the moment\n",
    "        if splitted[3] == \"SEGERA HABIS\":\n",
    "            orders = 0\n",
    "        else:\n",
    "            orders = int(re.sub(r\"\\D\", \"\", splitted[3]))\n",
    "        #GMV\n",
    "        GMV = int(orders) * int(sellingPrice)\n",
    "        #Adjustment\n",
    "        adjustment1 = ( float(normalPrice) - float(sellingPrice) ) * float(orders)\n",
    "        adjustment = int(format(adjustment1, '.0f'))\n",
    "        #Discount \n",
    "        discountPercentage1 = -((float(sellingPrice) - float(normalPrice)) / float(normalPrice)) * 100\n",
    "        discountPercentage = int(format(discountPercentage1, '.0f'))\n",
    "        #link\n",
    "        link = result.find_element_by_tag_name('a')\n",
    "        product_link = link.get_attribute(\"href\")\n",
    "        # append dict to array\n",
    "        i = i + 1\n",
    "        data.append({\"Position\" : int(i) , \"SKU Name\" : product_name, \"Normal Price\" : int(normalPrice), \"Selling Price\" : int(sellingPrice), \"Discount (Percentage, per SKU)\" : int(discountPercentage), \"Total Order Item\" : int(orders), \"GMV\" : int(GMV), \"Total Adjustment (total discount given)\" : int(adjustment), \"link\" : product_link, \"FS Date\": captureDate, \"FS Start Session Time\" : str(fsStartTime), \"FS End Session Time\" : str(fsEndTime), \"This data is captured on: \" : captureTime, \"Status\" : \"LIVE\"})\n",
    "        \n",
    "\n",
    "    print(\"LIVE product captured!\")\n",
    "    print(\"Capturing Sold Out data...\")\n",
    "    #get data for OOS product, as shopee keep it on different class\n",
    "    for result in fsSoldOut:\n",
    "        body = result.text\n",
    "        splitted = body.split('\\n',)\n",
    "        product_name = splitted[0]\n",
    "        #normal price\n",
    "        normalPrice = int(re.sub(r\"\\D\", \"\", splitted[1]))\n",
    "        #selling price\n",
    "        sellingPrice = int(re.sub(r\"\\D\", \"\", splitted[2]))\n",
    "        #sold at the moment\n",
    "        orders1 = splitted[3]\n",
    "        orders2=orders1.split()\n",
    "        orders = re.sub(r\"\\D\", \"\", orders2[0])\n",
    "        #GMV\n",
    "        GMV = int(orders) * int(sellingPrice)\n",
    "        #Adjustment\n",
    "        adjustment1 = ( float(normalPrice) - float(sellingPrice) ) * float(orders)\n",
    "        adjustment = format(adjustment1, '.0f')\n",
    "        #Discount \n",
    "        discountPercentage1 = -((float(sellingPrice) - float(normalPrice)) / float(normalPrice)) * 100\n",
    "        discountPercentage = format(discountPercentage1, '.0f')\n",
    "        #link\n",
    "        link = result.find_element_by_tag_name('a')\n",
    "        product_link = link.get_attribute(\"href\")\n",
    "        # append dict to array\n",
    "        i = i + 1\n",
    "        data.append({\"Position\" : int(i), \"SKU Name\" : product_name, \"Normal Price\" : int(normalPrice), \"Selling Price\" : int(sellingPrice), \"Discount (Percentage, per SKU)\" : int   (discountPercentage), \"Total Order Item\" : int(orders), \"GMV\" : int(GMV), \"Total Adjustment (total discount given)\" : int(adjustment), \"link\" : product_link, \"FS Date\": captureDate, \"FS Start Session Time\" : str(fsStartTime), \"FS End Session Time\" : str(fsEndTime), \"This data is captured on: \" : captureTime, \"Status\" : \"SOLD OUT\"})\n",
    "    print(\"Sold Out data captured!\")\n",
    "        \n",
    "\n",
    "    df = pd.DataFrame(data)\n",
    "    print(\"Data Stored on DB\")\n",
    "    print(\"GMV = \" + locale.format_string(\"%d\", df['GMV'].sum(), grouping=True))\n",
    "    print(\"Orders = \" + locale.format_string(\"%d\", df['Total Order Item'].sum(), grouping=True))\n",
    "    print(\"AOV = \" + locale.format_string(\"%d\", df['GMV'].sum() / df['Total Order Item'].sum(), grouping=True))\n",
    "\n",
    "    #export df to csv\n",
    "    nameFormat = \"Shopee \" + str(date.today()) + \". \" + str(fsStartTime) + \" - \" + str(fsEndTime) + \".xlsx\"\n",
    "    df.to_excel(nameFormat)\n",
    "    print(\"Data stored on: \" + nameFormat)\n",
    "    totalItems = len(fsLiveProducts) + len(fsSoldOut)\n",
    "    print(session[2])\n",
    "    driver.quit()\n",
    "    #Appending to master data\n",
    "    print(\"Appending to Master Data...\")\n",
    "    MasterDB = pd.read_excel(r'Master DB Shopee FS.xlsx', index_col = 0)\n",
    "    dfM = pd.DataFrame(MasterDB)\n",
    "    dfMf = dfM.append(df, ignore_index=True)\n",
    "    dfMf.to_excel('Master DB Shopee FS.xlsx')\n",
    "    print(\"Master data appended, Total Data captured: \" + str(len(dfMf)))\n",
    "    if repeat == True:\n",
    "        kill = False\n",
    "    else:\n",
    "        break"
   ]
  },
  {
   "cell_type": "code",
   "execution_count": 5,
   "metadata": {},
   "outputs": [],
   "source": [
    "MasterDB = pd.read_excel(r'Master DB Shopee FS.xlsx', index_col = 0)\n",
    "dfM = pd.DataFrame(MasterDB)\n",
    "dfM.to_excel('Master DB Shopee FS1.xlsx')"
   ]
  },
  {
   "cell_type": "code",
   "execution_count": 6,
   "metadata": {},
   "outputs": [
    {
     "name": "stdout",
     "output_type": "stream",
     "text": [
      "GMV = 42,303,372,724\n",
      "Orders = 693,085\n",
      "AOV = 61,036\n"
     ]
    }
   ],
   "source": [
    "import locale\n",
    "locale.setlocale(locale.LC_ALL, 'en_US')\n",
    "'en_US'\n",
    "'1,255,000'\n",
    "print(\"GMV = \" + locale.format_string(\"%d\", dfMf['GMV'].sum(), grouping=True))\n",
    "print(\"Orders = \" + locale.format_string(\"%d\", dfMf['Total Order Item'].sum(), grouping=True))\n",
    "print(\"AOV = \" + locale.format_string(\"%d\", dfMf['GMV'].sum() / dfMf['Total Order Item'].sum(), grouping=True))"
   ]
  },
  {
   "cell_type": "code",
   "execution_count": null,
   "metadata": {},
   "outputs": [],
   "source": [
    "print(\"GMV = \" + locale.format_string(\"%d\", dfM['GMV'].sum(), grouping=True))\n",
    "print(\"Orders = \" + locale.format_string(\"%d\", dfM['Total Order Item'].sum(), grouping=True))\n",
    "print(\"AOV = \" + locale.format_string(\"%d\", dfM['GMV'].sum() / dfM['Total Order Item'].sum(), grouping=True))"
   ]
  },
  {
   "cell_type": "code",
   "execution_count": 42,
   "metadata": {},
   "outputs": [
    {
     "name": "stdout",
     "output_type": "stream",
     "text": [
      "818766000\n",
      "5380\n"
     ]
    }
   ],
   "source": [
    "print(df['GMV'].max())\n",
    "print(df['Total Order Item'].max())"
   ]
  },
  {
   "cell_type": "code",
   "execution_count": 2,
   "metadata": {},
   "outputs": [
    {
     "name": "stdout",
     "output_type": "stream",
     "text": [
      "2021-02-25 17:57:48.601252\n"
     ]
    }
   ],
   "source": [
    "print(captureTime)"
   ]
  },
  {
   "cell_type": "code",
   "execution_count": 4,
   "metadata": {},
   "outputs": [
    {
     "name": "stdout",
     "output_type": "stream",
     "text": [
      "AOV = 54,199\n"
     ]
    }
   ],
   "source": [
    " print(\"AOV = \" + locale.format_string(\"%d\", dfM['GMV'].sum() / dfM['Total Order Item'].sum(), grouping=True))"
   ]
  },
  {
   "cell_type": "code",
   "execution_count": 10,
   "metadata": {},
   "outputs": [
    {
     "name": "stdout",
     "output_type": "stream",
     "text": [
      "Master data appended, Total Data captured: 18550\n"
     ]
    }
   ],
   "source": [
    "MasterDB = pd.read_excel(r'Master DB Shopee FS.xlsx', index_col = 0)\n",
    "dfM = pd.DataFrame(MasterDB)\n",
    "dfMf = dfM.append(df, ignore_index=True)\n",
    "dfMf.to_excel('Master DB Shopee FS.xlsx')\n",
    "print(\"Master data appended, Total Data captured: \" + str(len(dfMf)))"
   ]
  },
  {
   "cell_type": "code",
   "execution_count": null,
   "metadata": {},
   "outputs": [],
   "source": []
  }
 ],
 "metadata": {
  "kernelspec": {
   "display_name": "Python 3",
   "language": "python",
   "name": "python3"
  },
  "language_info": {
   "codemirror_mode": {
    "name": "ipython",
    "version": 3
   },
   "file_extension": ".py",
   "mimetype": "text/x-python",
   "name": "python",
   "nbconvert_exporter": "python",
   "pygments_lexer": "ipython3",
   "version": "3.8.5"
  }
 },
 "nbformat": 4,
 "nbformat_minor": 4
}
